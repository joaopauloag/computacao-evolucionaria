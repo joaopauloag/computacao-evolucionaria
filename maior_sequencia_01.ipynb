{
  "nbformat": 4,
  "nbformat_minor": 0,
  "metadata": {
    "colab": {
      "provenance": []
    },
    "kernelspec": {
      "name": "python3",
      "display_name": "Python 3"
    },
    "language_info": {
      "name": "python"
    }
  },
  "cells": [
    {
      "cell_type": "markdown",
      "source": [
        "# Problema da maior sequência de \"01\"\n",
        "\n",
        "\n",
        "---\n",
        "\n",
        "\n",
        "Representação:\n",
        "*  Indivíduo: Um vetor de 8 posições, com valores 0 e 1.\n",
        "*  População: Inicialmente formada por 10 indivíduos gerados aleatoriamente.\n",
        "\n",
        "Desafio:\n",
        "*  Gerar um indivíduo com a maior frequência de \"01\", usando o algoritmo de Holland"
      ],
      "metadata": {
        "id": "ojzneRZeBNFF"
      }
    },
    {
      "cell_type": "markdown",
      "source": [
        "**População inicial**"
      ],
      "metadata": {
        "id": "dAKccYptfGxJ"
      }
    },
    {
      "cell_type": "code",
      "source": [
        "from random import randint"
      ],
      "metadata": {
        "id": "aFYF9frTf5BV"
      },
      "execution_count": null,
      "outputs": []
    },
    {
      "cell_type": "code",
      "execution_count": null,
      "metadata": {
        "id": "ERiixriofCDl"
      },
      "outputs": [],
      "source": [
        "def inicia_populacao():\n",
        "  return [[randint(0,1) for j in range(8)] for i in range(10)]"
      ]
    },
    {
      "cell_type": "markdown",
      "source": [
        "**Cálculo de adaptação**"
      ],
      "metadata": {
        "id": "76wEDZYffKH1"
      }
    },
    {
      "cell_type": "code",
      "source": [
        "def calcula_adaptacao(populacao):\n",
        "\n",
        "  adaptacoes = []\n",
        "\n",
        "  for individuo in populacao:\n",
        "    c = 0\n",
        "    for i in range(7):\n",
        "      if individuo[i] == 0 and individuo[i+1] == 1:\n",
        "        c += 1\n",
        "    adaptacoes.append(c)\n",
        "\n",
        "  return adaptacoes"
      ],
      "metadata": {
        "id": "4SfLCsDkfKRa"
      },
      "execution_count": null,
      "outputs": []
    },
    {
      "cell_type": "markdown",
      "source": [
        "**Seleção dos mais adaptados**"
      ],
      "metadata": {
        "id": "jVCAhyV3fKh9"
      }
    },
    {
      "cell_type": "code",
      "source": [
        "# Ordena a população do mais adaptado ao menos adaptado\n",
        "def ordena(pop, adap):\n",
        "\n",
        "  tam = len(pop)\n",
        "  for i in range(tam):\n",
        "    for j in range(tam-1, i, -1):\n",
        "      if adap[i] < adap[j]:\n",
        "        adap[i], adap[j] = adap[j], adap[i]\n",
        "        pop[i], pop[j] = pop[j], pop[i]"
      ],
      "metadata": {
        "id": "9f8gAj-sqbJB"
      },
      "execution_count": null,
      "outputs": []
    },
    {
      "cell_type": "code",
      "source": [
        "def seleciona(populacao, adaptacoes):\n",
        "\n",
        "  ordena(populacao, adaptacoes)\n",
        "  # Selecionar os 5 indivíduos mais adaptados\n",
        "  return populacao[:5]"
      ],
      "metadata": {
        "id": "FQujmhydfKpw"
      },
      "execution_count": null,
      "outputs": []
    },
    {
      "cell_type": "markdown",
      "source": [
        "**Cruzamento**"
      ],
      "metadata": {
        "id": "6fKmn0tdg285"
      }
    },
    {
      "cell_type": "code",
      "source": [
        "def cruza(pais):\n",
        "\n",
        "  cruzamentos = []\n",
        "\n",
        "  for i in range(5):\n",
        "    for j in range(5):\n",
        "      if i == j:\n",
        "        continue\n",
        "      r = randint(0,100)\n",
        "      if r >= 60:  # Taxa de cruzamento\n",
        "        r = randint(1,7)  # Ponto de corte\n",
        "        filho1 = pais[i][:r] + pais[j][r:]\n",
        "        filho2 = pais[j][:r] + pais[i][r:]\n",
        "        if filho1 not in cruzamentos:\n",
        "          cruzamentos.append(filho1)\n",
        "        if filho2 not in cruzamentos:\n",
        "          cruzamentos.append(filho2)\n",
        "\n",
        "  return cruzamentos"
      ],
      "metadata": {
        "id": "ZTQDyOjhg5ct"
      },
      "execution_count": null,
      "outputs": []
    },
    {
      "cell_type": "markdown",
      "source": [
        "**Mutação**"
      ],
      "metadata": {
        "id": "hKuAebIffKxJ"
      }
    },
    {
      "cell_type": "code",
      "source": [
        "def muta(populacao):\n",
        "\n",
        "  for individuo in populacao:\n",
        "    r = randint(0,100)\n",
        "    if r >= 90:  # Taxa de mutação\n",
        "      for i in range(8):\n",
        "        r = randint(0,1)\n",
        "        if r == 1:\n",
        "          individuo[i] = int(not individuo[i])"
      ],
      "metadata": {
        "id": "Kbl6mXWAfK5K"
      },
      "execution_count": null,
      "outputs": []
    },
    {
      "cell_type": "markdown",
      "source": [
        "\n",
        "---\n"
      ],
      "metadata": {
        "id": "j3ANj-Y10kt8"
      }
    },
    {
      "cell_type": "code",
      "source": [
        "populacao = inicia_populacao()\n",
        "populacao"
      ],
      "metadata": {
        "colab": {
          "base_uri": "https://localhost:8080/"
        },
        "id": "T3ujaklAvzYf",
        "outputId": "b43c4e17-970e-4dd5-89a4-c86ebabb91e9"
      },
      "execution_count": null,
      "outputs": [
        {
          "output_type": "execute_result",
          "data": {
            "text/plain": [
              "[[1, 1, 0, 0, 0, 0, 0, 1],\n",
              " [1, 0, 1, 0, 0, 1, 1, 1],\n",
              " [1, 1, 1, 0, 0, 1, 0, 0],\n",
              " [0, 0, 1, 1, 1, 0, 0, 0],\n",
              " [1, 0, 1, 1, 0, 0, 1, 0],\n",
              " [1, 0, 1, 0, 0, 1, 0, 1],\n",
              " [0, 1, 1, 0, 1, 0, 0, 1],\n",
              " [1, 1, 1, 1, 0, 0, 0, 1],\n",
              " [0, 0, 1, 1, 0, 1, 1, 0],\n",
              " [0, 0, 0, 1, 1, 1, 1, 1]]"
            ]
          },
          "metadata": {},
          "execution_count": 8
        }
      ]
    },
    {
      "cell_type": "code",
      "source": [
        "adaptacoes = calcula_adaptacao(populacao)\n",
        "adaptacoes"
      ],
      "metadata": {
        "colab": {
          "base_uri": "https://localhost:8080/"
        },
        "id": "wFxjJM294IyE",
        "outputId": "add0614e-0459-4493-92c9-63b1ab8785f5"
      },
      "execution_count": null,
      "outputs": [
        {
          "output_type": "execute_result",
          "data": {
            "text/plain": [
              "[1, 2, 1, 1, 2, 3, 3, 1, 2, 1]"
            ]
          },
          "metadata": {},
          "execution_count": 9
        }
      ]
    },
    {
      "cell_type": "code",
      "source": [
        "while(max(adaptacoes) < 4):\n",
        "  populacao = seleciona(populacao, adaptacoes)\n",
        "  populacao += cruza(populacao)\n",
        "  muta(populacao)\n",
        "  adaptacoes = calcula_adaptacao(populacao)"
      ],
      "metadata": {
        "id": "7YaAjW4b4DEi"
      },
      "execution_count": null,
      "outputs": []
    },
    {
      "cell_type": "code",
      "source": [
        "pos_solucao = adaptacoes.index(max(adaptacoes))\n",
        "pos_solucao"
      ],
      "metadata": {
        "colab": {
          "base_uri": "https://localhost:8080/"
        },
        "id": "a9iv1J1VBqsK",
        "outputId": "3bfd2319-0c36-4ab4-8d42-9dda8bb06866"
      },
      "execution_count": null,
      "outputs": [
        {
          "output_type": "execute_result",
          "data": {
            "text/plain": [
              "8"
            ]
          },
          "metadata": {},
          "execution_count": 11
        }
      ]
    },
    {
      "cell_type": "code",
      "source": [
        "solucao = populacao[pos_solucao]\n",
        "solucao"
      ],
      "metadata": {
        "colab": {
          "base_uri": "https://localhost:8080/"
        },
        "id": "rhw2RJLxBO_s",
        "outputId": "2cab5e69-a5b3-404f-eb06-c99ccc4ff6ea"
      },
      "execution_count": null,
      "outputs": [
        {
          "output_type": "execute_result",
          "data": {
            "text/plain": [
              "[0, 1, 0, 1, 0, 1, 0, 1]"
            ]
          },
          "metadata": {},
          "execution_count": 12
        }
      ]
    },
    {
      "cell_type": "code",
      "source": [
        "populacao"
      ],
      "metadata": {
        "colab": {
          "base_uri": "https://localhost:8080/"
        },
        "id": "ipNeHBLMB3BA",
        "outputId": "5a71fa81-361a-41d4-e633-852957f63a2a"
      },
      "execution_count": null,
      "outputs": [
        {
          "output_type": "execute_result",
          "data": {
            "text/plain": [
              "[[0, 0, 1, 1, 0, 1, 0, 1],\n",
              " [0, 1, 1, 1, 1, 1, 1, 1],\n",
              " [0, 0, 1, 0, 0, 1, 0, 1],\n",
              " [0, 0, 1, 0, 1, 1, 0, 1],\n",
              " [0, 1, 0, 1, 0, 1, 1, 1],\n",
              " [0, 0, 1, 1, 0, 1, 0, 1],\n",
              " [0, 0, 1, 0, 0, 1, 0, 1],\n",
              " [0, 0, 1, 0, 0, 1, 1, 1],\n",
              " [0, 1, 0, 1, 0, 1, 0, 1],\n",
              " [0, 0, 1, 0, 1, 1, 0, 1],\n",
              " [0, 1, 0, 1, 0, 1, 1, 1]]"
            ]
          },
          "metadata": {},
          "execution_count": 13
        }
      ]
    }
  ]
}