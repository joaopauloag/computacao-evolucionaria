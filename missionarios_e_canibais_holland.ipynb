{
  "nbformat": 4,
  "nbformat_minor": 0,
  "metadata": {
    "colab": {
      "provenance": []
    },
    "kernelspec": {
      "name": "python3",
      "display_name": "Python 3"
    },
    "language_info": {
      "name": "python"
    }
  },
  "cells": [
    {
      "cell_type": "markdown",
      "source": [
        "# Problema dos missionários e canibais\n",
        "\n",
        "---\n",
        "\n",
        "**Implementado com algoritmo de Holland**\n",
        "\n",
        "---\n",
        "\n",
        "Objetivo: mover três missionários e três canibais de um lado do rio para o outro, usando um barco que só pode transportar uma ou duas pessoas por vez. Em qualquer lado do rio, o número de missionários não pode ser menor que o número de canibais, caso contrário os canibais comerão os missionários.\n"
      ],
      "metadata": {
        "id": "9r0xfhuTEWVK"
      }
    },
    {
      "cell_type": "markdown",
      "source": [
        "**Codificação do cromossomo**:\n",
        "```\n",
        "individuo = [p1,p2,p3,p4,p5,p6]\n",
        "```\n",
        "A lista contém 6 posições que representam as 6 pessoas do problema: os 3 missionários e os 3 canibais, respectivamente.\n",
        "\n",
        ">  pᵢ = 0, indica que a pessoa está na margem esquerda;\n",
        "\n",
        ">  pᵢ = 1, indica que a pessoa está na margem direita.\n",
        "\n",
        "\n",
        "Deseja-se alcançar o indivíduo com o seguinte cromossomo:\n",
        "```\n",
        "individuo_alvo = [1,1,1,1,1,1]\n",
        "```"
      ],
      "metadata": {
        "id": "U_1QVWlmEpuM"
      }
    },
    {
      "cell_type": "code",
      "source": [
        "from random import randint"
      ],
      "metadata": {
        "id": "Gt01QuGjQ0UC"
      },
      "execution_count": 1,
      "outputs": []
    },
    {
      "cell_type": "markdown",
      "source": [
        "**População inicial**"
      ],
      "metadata": {
        "id": "2caMoYTAs9vk"
      }
    },
    {
      "cell_type": "code",
      "source": [
        "# Gera aleatoriamente uma população de indivíduos\n",
        "def inicia_populacao(tam):\n",
        "    return [[randint(0,1) for i in range(6)] for j in range(tam)]"
      ],
      "metadata": {
        "id": "OBq-kbjPtBaj"
      },
      "execution_count": 2,
      "outputs": []
    },
    {
      "cell_type": "markdown",
      "source": [
        "**Cálculo de adaptação**"
      ],
      "metadata": {
        "id": "cj3AUP0pIAVb"
      }
    },
    {
      "cell_type": "markdown",
      "source": [
        "*calcula_adaptacao* usa a função de aptidão abaixo:\n",
        "```\n",
        "adap(individuo) = 𝛴 individuo[i]\n",
        "```\n",
        "Como a solução é representada pelo cromossomo``` [1, 1, 1, 1, 1, 1],``` procura-se maximizar ```𝛴 individuo[i].```\n",
        "\n",
        "Obviamente, há punição para indivíduos *monstros.* Um indivíduo é considerado *monstro,* quando seu cromossomo representa uma situação inválida no problema real. Ou seja, quando há mais canibais que missionários em alguma margem. Esse tipo de indivíduo recebe adaptação negativa, visto que está fora do escopo do problema. Assim impede-se sua permanência na população por meio de seleção."
      ],
      "metadata": {
        "id": "IMFVRxUFunXA"
      }
    },
    {
      "cell_type": "code",
      "source": [
        "def calcula_adaptacao(individuo):\n",
        "\n",
        "    missionarios = individuo[:3]\n",
        "    canibais = individuo[3:]\n",
        "\n",
        "    # missionarios na margem direita\n",
        "    md = sum(missionarios)\n",
        "    # canibais na margem direita\n",
        "    cd = sum(canibais)\n",
        "    # missionarios na margem esquerda\n",
        "    me = 3 - md\n",
        "    # canibais na margem esquerda\n",
        "    ce = 3 - cd\n",
        "\n",
        "    # verifica se há mais canibais que missionários em alguma margem\n",
        "    if (ce > me and me > 0) or (cd > md and md > 0):\n",
        "        return -1\n",
        "\n",
        "    return sum(individuo)"
      ],
      "metadata": {
        "id": "sdfB0gm8H_pp"
      },
      "execution_count": 3,
      "outputs": []
    },
    {
      "cell_type": "markdown",
      "source": [
        "**Seleção dos mais adaptados**"
      ],
      "metadata": {
        "id": "FyT8npnbOvo9"
      }
    },
    {
      "cell_type": "code",
      "source": [
        "# Ordena a população do mais adaptado ao menos adaptado\n",
        "def ordena(pop, adap):\n",
        "\n",
        "    tam = len(pop)\n",
        "    for i in range(tam):\n",
        "        for j in range(tam-1, i, -1):\n",
        "            if adap[i] < adap[j]:\n",
        "                adap[i], adap[j] = adap[j], adap[i]\n",
        "                pop[i], pop[j] = pop[j], pop[i]"
      ],
      "metadata": {
        "id": "7a30gxH-H3FY"
      },
      "execution_count": 4,
      "outputs": []
    },
    {
      "cell_type": "code",
      "source": [
        "# Escolhe os 5 indivíduos mais adaptados da população\n",
        "def seleciona(populacao):\n",
        "\n",
        "    adaptacoes = [calcula_adaptacao(ind) for ind in populacao]\n",
        "    ordena(populacao, adaptacoes)\n",
        "    del populacao[5:]"
      ],
      "metadata": {
        "id": "qqf70XFyPBy0"
      },
      "execution_count": 5,
      "outputs": []
    },
    {
      "cell_type": "markdown",
      "source": [
        "**Cruzamento**"
      ],
      "metadata": {
        "id": "LXZCj8rZu08W"
      }
    },
    {
      "cell_type": "markdown",
      "source": [
        "*cruza* gera filhos a partir da combinação de dois indivíduos (cromossomos) após a seleção dos mais adaptados. Essa função é aplicada em todos os pares da população."
      ],
      "metadata": {
        "id": "qlJkw3rO2mWe"
      }
    },
    {
      "cell_type": "markdown",
      "source": [
        "Para aumentar a diversidade genética vamos usar dois pontos de cortes aleatórios r1 e r2."
      ],
      "metadata": {
        "id": "GcXzZiNU5Ahi"
      }
    },
    {
      "cell_type": "code",
      "source": [
        "def cruza(populacao):\n",
        "\n",
        "    filhos = []\n",
        "    for ind1 in populacao:\n",
        "        for ind2 in populacao:\n",
        "            if ind1 != ind2:\n",
        "                r1 = randint(1,5)\n",
        "                r2 = randint(1,5)\n",
        "                # ordena os pontos de corte\n",
        "                r1, r2 = min(r1,r2), max(r1,r2)\n",
        "                f1 = ind1[:r1] + ind2[r1:r2] + ind1[r2:]\n",
        "                f2 = ind2[:r1] + ind1[r1:r2] + ind2[r2:]\n",
        "                if f1 not in filhos and f1 not in populacao:\n",
        "                    filhos.append(f1)\n",
        "                if f2 not in filhos and f2 not in populacao:\n",
        "                    filhos.append(f2)\n",
        "    populacao += filhos"
      ],
      "metadata": {
        "id": "zb2pH9BWu1Vx"
      },
      "execution_count": 6,
      "outputs": []
    },
    {
      "cell_type": "markdown",
      "source": [
        "**Mutação**"
      ],
      "metadata": {
        "id": "3gAH08aiPYSK"
      }
    },
    {
      "cell_type": "code",
      "source": [
        "def muta(populacao):\n",
        "\n",
        "    for individuo in populacao:\n",
        "        r = randint(0,100)\n",
        "        if r >= 90:\n",
        "            for i in range(6):\n",
        "                r = randint(0,1)\n",
        "                if r == 1:\n",
        "                    individuo[i] = int(not individuo[i])"
      ],
      "metadata": {
        "id": "Rl9JCa8rPc8H"
      },
      "execution_count": 7,
      "outputs": []
    },
    {
      "cell_type": "markdown",
      "source": [
        "---\n",
        "\n",
        "**Execução**"
      ],
      "metadata": {
        "id": "mtaAYEFglWvG"
      }
    },
    {
      "cell_type": "code",
      "source": [
        "solucao = [1,1,1,1,1,1]"
      ],
      "metadata": {
        "id": "zaPXjMoPrOmj"
      },
      "execution_count": 8,
      "outputs": []
    },
    {
      "cell_type": "code",
      "source": [
        "# Gerar uma população inicial com 10 indivíduos\n",
        "populacao = inicia_populacao(10)\n",
        "populacao"
      ],
      "metadata": {
        "colab": {
          "base_uri": "https://localhost:8080/"
        },
        "id": "AQoTzLN7rzE6",
        "outputId": "ad658364-a2ff-47b3-d659-0bf3ba00f08f"
      },
      "execution_count": 9,
      "outputs": [
        {
          "output_type": "execute_result",
          "data": {
            "text/plain": [
              "[[1, 0, 0, 0, 1, 0],\n",
              " [1, 1, 0, 1, 0, 0],\n",
              " [1, 0, 1, 0, 0, 1],\n",
              " [1, 0, 0, 0, 0, 1],\n",
              " [1, 0, 0, 1, 1, 1],\n",
              " [0, 1, 1, 1, 0, 0],\n",
              " [0, 1, 0, 1, 1, 0],\n",
              " [0, 1, 1, 0, 1, 1],\n",
              " [1, 0, 1, 1, 0, 0],\n",
              " [0, 0, 1, 0, 1, 0]]"
            ]
          },
          "metadata": {},
          "execution_count": 9
        }
      ]
    },
    {
      "cell_type": "code",
      "source": [
        "# Verificar as adaptações dos individuos iniciais\n",
        "[calcula_adaptacao(ind) for ind in populacao]"
      ],
      "metadata": {
        "colab": {
          "base_uri": "https://localhost:8080/"
        },
        "id": "GEBZjv9W1Hdc",
        "outputId": "dfaeeca0-20d6-4fa3-f16a-49ca069aa47e"
      },
      "execution_count": 10,
      "outputs": [
        {
          "output_type": "execute_result",
          "data": {
            "text/plain": [
              "[2, -1, -1, 2, -1, -1, -1, 4, -1, 2]"
            ]
          },
          "metadata": {},
          "execution_count": 10
        }
      ]
    },
    {
      "cell_type": "code",
      "source": [
        "seleciona(populacao)\n",
        "populacao"
      ],
      "metadata": {
        "colab": {
          "base_uri": "https://localhost:8080/"
        },
        "id": "PMApfnHi5V0l",
        "outputId": "d2ee2ff9-a8cb-407c-93c8-281acca94a82"
      },
      "execution_count": 11,
      "outputs": [
        {
          "output_type": "execute_result",
          "data": {
            "text/plain": [
              "[[0, 1, 1, 0, 1, 1],\n",
              " [0, 0, 1, 0, 1, 0],\n",
              " [1, 0, 0, 0, 1, 0],\n",
              " [1, 0, 0, 0, 0, 1],\n",
              " [1, 0, 0, 1, 1, 1]]"
            ]
          },
          "metadata": {},
          "execution_count": 11
        }
      ]
    },
    {
      "cell_type": "code",
      "source": [
        "while solucao not in populacao:\n",
        "    cruza(populacao)\n",
        "    muta(populacao)\n",
        "    seleciona(populacao)\n",
        "    print(f'População pós seleção: {populacao}\\n')"
      ],
      "metadata": {
        "colab": {
          "base_uri": "https://localhost:8080/"
        },
        "id": "5EbuApw-XysK",
        "outputId": "0d64e717-3bab-47ab-da0e-55951f20a00f"
      },
      "execution_count": 12,
      "outputs": [
        {
          "output_type": "stream",
          "name": "stdout",
          "text": [
            "População pós seleção: [[0, 1, 1, 0, 1, 1], [1, 1, 1, 0, 0, 1], [1, 1, 1, 0, 1, 0], [1, 0, 1, 0, 1, 1], [0, 0, 0, 1, 1, 1]]\n",
            "\n",
            "População pós seleção: [[1, 1, 1, 0, 1, 1], [1, 1, 1, 0, 0, 1], [1, 1, 1, 0, 1, 0], [1, 0, 1, 0, 1, 1], [0, 1, 1, 0, 1, 1]]\n",
            "\n",
            "População pós seleção: [[1, 1, 1, 0, 1, 1], [0, 1, 1, 0, 1, 1], [1, 1, 1, 0, 1, 0], [1, 0, 1, 0, 1, 1], [1, 1, 0, 1, 0, 0]]\n",
            "\n",
            "População pós seleção: [[1, 1, 1, 0, 1, 1], [1, 1, 1, 1, 0, 1], [1, 1, 1, 1, 1, 0], [1, 0, 1, 0, 1, 1], [1, 1, 1, 1, 0, 0]]\n",
            "\n",
            "População pós seleção: [[1, 1, 1, 1, 1, 1], [1, 1, 1, 0, 1, 1], [1, 1, 1, 1, 1, 0], [1, 0, 1, 0, 1, 1], [1, 1, 1, 1, 0, 0]]\n",
            "\n"
          ]
        }
      ]
    }
  ]
}