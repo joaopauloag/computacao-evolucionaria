{
  "nbformat": 4,
  "nbformat_minor": 0,
  "metadata": {
    "colab": {
      "provenance": []
    },
    "kernelspec": {
      "name": "python3",
      "display_name": "Python 3"
    },
    "language_info": {
      "name": "python"
    }
  },
  "cells": [
    {
      "cell_type": "markdown",
      "source": [
        "# Problema dos missionários e canibais\n",
        "\n",
        "---\n",
        "\n",
        "**Implementado com busca em largura**\n",
        "\n",
        "---\n",
        "\n",
        "Objetivo: mover três missionários e três canibais de um lado do rio para o outro, usando um barco que só pode transportar uma ou duas pessoas por vez. Em qualquer lado do rio, o número de missionários não pode ser menor que o número de canibais, caso contrário os canibais comerão os missionários."
      ],
      "metadata": {
        "id": "aUDjH5QQK0MB"
      }
    },
    {
      "cell_type": "markdown",
      "source": [
        "\n",
        "\n",
        "```\n",
        "# Representação do estado:\n",
        "estado = ((me, ce), (md, cd), margem)\n",
        "\n",
        "# me / ce = número de missionarios/canibais na margem esquerda do rio\n",
        "# md / cd = número de missionarios/canibais na margem direita do rio\n",
        "# margem = margem onde está o barco: \"esquerda\" ou \"direita\"\n",
        "```\n",
        "\n"
      ],
      "metadata": {
        "id": "cuCWivxhMBjg"
      }
    },
    {
      "cell_type": "code",
      "source": [
        "estado_inicial = ((3, 3), (0, 0), \"esquerda\")\n",
        "estado_final = ((0,0), (3,3), \"direita\")"
      ],
      "metadata": {
        "id": "jYhIHu89NWJt"
      },
      "execution_count": 1,
      "outputs": []
    },
    {
      "cell_type": "code",
      "execution_count": 2,
      "metadata": {
        "id": "l0N_Pm0iJe3f"
      },
      "outputs": [],
      "source": [
        "from collections import deque"
      ]
    },
    {
      "cell_type": "markdown",
      "source": [
        "*e_estado_valido* verifica se alguma margem tem mais canibais que missionários, e se há quantidade negativa de missionário ou canibais."
      ],
      "metadata": {
        "id": "2o2k-GbKrKCZ"
      }
    },
    {
      "cell_type": "code",
      "source": [
        "def e_estado_valido(estado):\n",
        "\n",
        "    me, ce = estado[0]\n",
        "    md, cd = estado[1]\n",
        "\n",
        "    return not(me < 0 or ce < 0 or md < 0 or cd < 0 or \\\n",
        "                0 < me < ce or 0 < md < cd)"
      ],
      "metadata": {
        "id": "cduowVU_SprW"
      },
      "execution_count": 3,
      "outputs": []
    },
    {
      "cell_type": "code",
      "source": [
        "def gera_estados(estado):\n",
        "\n",
        "    novos_estados = []\n",
        "\n",
        "    me, ce = estado[0]\n",
        "    md, cd = estado[1]\n",
        "\n",
        "    if estado[2] == \"esquerda\":\n",
        "\n",
        "        # barco = [m=2, c=0]\n",
        "        novo_estado = ((me-2, ce), (md+2, cd), \"direita\")\n",
        "        if e_estado_valido(novo_estado):\n",
        "            novos_estados.append(novo_estado)\n",
        "\n",
        "        # barco = [m=0, c=2]\n",
        "        novo_estado = ((me, ce-2), (md, cd+2), \"direita\")\n",
        "        if e_estado_valido(novo_estado):\n",
        "            novos_estados.append(novo_estado)\n",
        "\n",
        "        # barco = [m=1, c=0]\n",
        "        novo_estado = ((me-1, ce), (md+1, cd), \"direita\")\n",
        "        if e_estado_valido(novo_estado):\n",
        "            novos_estados.append(novo_estado)\n",
        "\n",
        "        # barco = [m=0, c=1]\n",
        "        novo_estado = ((me, ce-1), (md, cd+1), \"direita\")\n",
        "        if e_estado_valido(novo_estado):\n",
        "            novos_estados.append(novo_estado)\n",
        "\n",
        "        # barco = [m=1, c=1]\n",
        "        novo_estado = ((me-1, ce-1), (md+1, cd+1), \"direita\")\n",
        "        if e_estado_valido(novo_estado):\n",
        "            novos_estados.append(novo_estado)\n",
        "\n",
        "    if estado[2] == \"direita\":\n",
        "\n",
        "        # barco = [m=2, c=0]\n",
        "        novo_estado = ((me+2, ce), (md-2, cd), \"esquerda\")\n",
        "        if e_estado_valido(novo_estado):\n",
        "            novos_estados.append(novo_estado)\n",
        "\n",
        "        # barco = [m=0, c=2]\n",
        "        novo_estado = ((me, ce+2), (md, cd+2), \"esquerda\")\n",
        "        if e_estado_valido(novo_estado):\n",
        "            novos_estados.append(novo_estado)\n",
        "\n",
        "        # barco = [m=1, c=0]\n",
        "        novo_estado = ((me+1, ce), (md-1, cd), \"esquerda\")\n",
        "        if e_estado_valido(novo_estado):\n",
        "            novos_estados.append(novo_estado)\n",
        "\n",
        "        # barco = [m=0, c=1]\n",
        "        novo_estado = ((me, ce+1), (md, cd-1), \"esquerda\")\n",
        "        if e_estado_valido(novo_estado):\n",
        "            novos_estados.append(novo_estado)\n",
        "\n",
        "        # barco = [m=1, c=1]\n",
        "        novo_estado = ((me+1, ce+1), (md-1, cd-1), \"esquerda\")\n",
        "        if e_estado_valido(novo_estado):\n",
        "            novos_estados.append(novo_estado)\n",
        "\n",
        "    return novos_estados"
      ],
      "metadata": {
        "id": "e1jsFU13QMyb"
      },
      "execution_count": 4,
      "outputs": []
    },
    {
      "cell_type": "markdown",
      "source": [
        "A busca em largura retorna o caminho percorrido do estado inicial ao estado final."
      ],
      "metadata": {
        "id": "_msV-NZPo9zy"
      }
    },
    {
      "cell_type": "code",
      "source": [
        "def bfs():\n",
        "\n",
        "    fila = deque([(estado_inicial, [])])\n",
        "    visitados = set()\n",
        "\n",
        "    while fila:\n",
        "        estado_atual, caminho = fila.popleft()\n",
        "        if estado_atual == estado_final:\n",
        "            return caminho + [estado_atual]\n",
        "\n",
        "        visitados.add(estado_atual)\n",
        "        estados_possiveis = gera_estados(estado_atual)\n",
        "        for proximo_estado in estados_possiveis:\n",
        "            if proximo_estado not in visitados:\n",
        "                fila.append(((proximo_estado, caminho + [estado_atual])))"
      ],
      "metadata": {
        "id": "D03ckcoeKz7L"
      },
      "execution_count": 5,
      "outputs": []
    },
    {
      "cell_type": "markdown",
      "source": [
        "*print_caminho* mostra os estados alcançados e os movimentos entre eles"
      ],
      "metadata": {
        "id": "Nk1-9CH_qvdd"
      }
    },
    {
      "cell_type": "code",
      "source": [
        "def print_caminho(solucao):\n",
        "    for i in range(len(solucao) - 1):\n",
        "        m = abs(solucao[i][0][0] - solucao[i+1][0][0])  # missionarios no barco\n",
        "        c = abs(solucao[i][0][1] - solucao[i+1][0][1])  # canibais no barco\n",
        "        print(f'{solucao[i]}\\n\\nbarco: ({m=}, {c=})\\n')\n",
        "    print(solucao[-1])"
      ],
      "metadata": {
        "id": "gpP-Q-eDT8CL"
      },
      "execution_count": 6,
      "outputs": []
    },
    {
      "cell_type": "code",
      "source": [
        "solucao = bfs()"
      ],
      "metadata": {
        "id": "l1qCgZj3Tfk8"
      },
      "execution_count": 7,
      "outputs": []
    },
    {
      "cell_type": "code",
      "source": [
        "print_caminho(solucao)"
      ],
      "metadata": {
        "colab": {
          "base_uri": "https://localhost:8080/"
        },
        "id": "C4BsGjvips2C",
        "outputId": "c4f0cc02-f8cd-4bcc-a276-1db82b17100a"
      },
      "execution_count": 8,
      "outputs": [
        {
          "output_type": "stream",
          "name": "stdout",
          "text": [
            "((3, 3), (0, 0), 'esquerda')\n",
            "\n",
            "barco: (m=0, c=2)\n",
            "\n",
            "((3, 1), (0, 2), 'direita')\n",
            "\n",
            "barco: (m=0, c=1)\n",
            "\n",
            "((3, 2), (0, 1), 'esquerda')\n",
            "\n",
            "barco: (m=0, c=2)\n",
            "\n",
            "((3, 0), (0, 3), 'direita')\n",
            "\n",
            "barco: (m=0, c=1)\n",
            "\n",
            "((3, 1), (0, 2), 'esquerda')\n",
            "\n",
            "barco: (m=2, c=0)\n",
            "\n",
            "((1, 1), (2, 2), 'direita')\n",
            "\n",
            "barco: (m=1, c=1)\n",
            "\n",
            "((2, 2), (1, 1), 'esquerda')\n",
            "\n",
            "barco: (m=2, c=0)\n",
            "\n",
            "((0, 2), (3, 1), 'direita')\n",
            "\n",
            "barco: (m=0, c=1)\n",
            "\n",
            "((0, 3), (3, 0), 'esquerda')\n",
            "\n",
            "barco: (m=0, c=2)\n",
            "\n",
            "((0, 1), (3, 2), 'direita')\n",
            "\n",
            "barco: (m=1, c=0)\n",
            "\n",
            "((1, 1), (2, 2), 'esquerda')\n",
            "\n",
            "barco: (m=1, c=1)\n",
            "\n",
            "((0, 0), (3, 3), 'direita')\n"
          ]
        }
      ]
    }
  ]
}